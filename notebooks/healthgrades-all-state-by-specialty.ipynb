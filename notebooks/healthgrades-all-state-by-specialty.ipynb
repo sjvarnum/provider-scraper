{
 "cells": [
  {
   "cell_type": "markdown",
   "metadata": {},
   "source": [
    "https://www.healthgrades.com/usearch?what=family%20medicine&where=Rochester%2C%20NY&pt=43.155499%2C-77.616028&pageNum=1&sort.provider=bestmatch&state=NY  \n",
    "\n",
    "https://www.healthgrades.com/usearch?what=family%20medicine&where=Rochester%20C%20NY&pageNum=1  \n",
    "\n",
    "https://www.healthgrades.com/find-a-doctor/new-york  \n",
    "https://www.healthgrades.com/find-a-doctor/new-york/albany  \n",
    "https://www.healthgrades.com/usearch?what=Gastroenterology&where=Albany%2C%20NY&pageNum=1&sort.provider=bestmatch  \n",
    "https://www.healthgrades.com/usearch?what=Addiction%20and%20Substance%20Abuse%20Counseling&where=Albany%2C%20NY&distances=100&pageNum=1&sort.provider=bestmatch  "
   ]
  },
  {
   "cell_type": "code",
   "execution_count": 1,
   "metadata": {},
   "outputs": [],
   "source": [
    "from datetime import datetime\n",
    "import pandas as pd\n",
    "import random\n",
    "from requests_html import HTML\n",
    "from selenium import webdriver\n",
    "from selenium.webdriver.firefox.options import Options\n",
    "from selenium.webdriver.common.by import By\n",
    "from selenium.webdriver.support.ui import Select\n",
    "from selenium.webdriver.support.ui import WebDriverWait\n",
    "from selenium.webdriver.support import expected_conditions as EC\n",
    "from selenium.webdriver.firefox.service import Service\n",
    "from selenium.common.exceptions import *\n",
    "from time import sleep\n",
    "\n",
    "service = Service('geckodriver.exe')\n",
    "options = webdriver.FirefoxOptions()\n",
    "# options.add_argument('-headless')\n",
    "driver = webdriver.Firefox(service=service, options=options)\n",
    "# wait = WebDriverWait(driver, 10)\n"
   ]
  },
  {
   "cell_type": "markdown",
   "metadata": {},
   "source": [
    "# Load cities page"
   ]
  },
  {
   "cell_type": "code",
   "execution_count": 2,
   "metadata": {},
   "outputs": [],
   "source": [
    "base_url = 'https://www.healthgrades.com'\n",
    "cities_url = 'https://www.healthgrades.com/find-a-doctor/new-york'\n",
    "driver.get(cities_url)\n",
    "sleep(10)\n",
    "body = driver.page_source\n",
    "html = HTML(html=body)"
   ]
  },
  {
   "cell_type": "code",
   "execution_count": 3,
   "metadata": {},
   "outputs": [
    {
     "name": "stdout",
     "output_type": "stream",
     "text": [
      "['https://www.healthgrades.com/find-a-doctor/new-york/albany', 'https://www.healthgrades.com/find-a-doctor/new-york/astoria', 'https://www.healthgrades.com/find-a-doctor/new-york/bay-shore', 'https://www.healthgrades.com/find-a-doctor/new-york/binghamton', 'https://www.healthgrades.com/find-a-doctor/new-york/bronx', 'https://www.healthgrades.com/find-a-doctor/new-york/brooklyn', 'https://www.healthgrades.com/find-a-doctor/new-york/buffalo', 'https://www.healthgrades.com/find-a-doctor/new-york/east-meadow', 'https://www.healthgrades.com/find-a-doctor/new-york/east-setauket', 'https://www.healthgrades.com/find-a-doctor/new-york/elmhurst', 'https://www.healthgrades.com/find-a-doctor/new-york/elmira', 'https://www.healthgrades.com/find-a-doctor/new-york/flushing', 'https://www.healthgrades.com/find-a-doctor/new-york/forest-hills', 'https://www.healthgrades.com/find-a-doctor/new-york/garden-city', 'https://www.healthgrades.com/find-a-doctor/new-york/great-neck', 'https://www.healthgrades.com/find-a-doctor/new-york/huntington', 'https://www.healthgrades.com/find-a-doctor/new-york/ithaca', 'https://www.healthgrades.com/find-a-doctor/new-york/jackson-heights', 'https://www.healthgrades.com/find-a-doctor/new-york/jamaica', 'https://www.healthgrades.com/find-a-doctor/new-york/kingston', 'https://www.healthgrades.com/find-a-doctor/new-york/latham', 'https://www.healthgrades.com/find-a-doctor/new-york/manhasset', 'https://www.healthgrades.com/find-a-doctor/new-york/middletown', 'https://www.healthgrades.com/find-a-doctor/new-york/mineola', 'https://www.healthgrades.com/find-a-doctor/new-york/mount-kisco', 'https://www.healthgrades.com/find-a-doctor/new-york/new-hyde-park', 'https://www.healthgrades.com/find-a-doctor/new-york/new-rochelle', 'https://www.healthgrades.com/find-a-doctor/new-york/new-york', 'https://www.healthgrades.com/find-a-doctor/new-york/orchard-park', 'https://www.healthgrades.com/find-a-doctor/new-york/plainview', 'https://www.healthgrades.com/find-a-doctor/new-york/plattsburgh', 'https://www.healthgrades.com/find-a-doctor/new-york/poughkeepsie', 'https://www.healthgrades.com/find-a-doctor/new-york/rego-park', 'https://www.healthgrades.com/find-a-doctor/new-york/rochester', 'https://www.healthgrades.com/find-a-doctor/new-york/rockville-centre', 'https://www.healthgrades.com/find-a-doctor/new-york/saratoga-springs', 'https://www.healthgrades.com/find-a-doctor/new-york/scarsdale', 'https://www.healthgrades.com/find-a-doctor/new-york/schenectady', 'https://www.healthgrades.com/find-a-doctor/new-york/smithtown', 'https://www.healthgrades.com/find-a-doctor/new-york/staten-island', 'https://www.healthgrades.com/find-a-doctor/new-york/stony-brook', 'https://www.healthgrades.com/find-a-doctor/new-york/syracuse', 'https://www.healthgrades.com/find-a-doctor/new-york/troy', 'https://www.healthgrades.com/find-a-doctor/new-york/utica', 'https://www.healthgrades.com/find-a-doctor/new-york/valhalla', 'https://www.healthgrades.com/find-a-doctor/new-york/valley-stream', 'https://www.healthgrades.com/find-a-doctor/new-york/west-islip', 'https://www.healthgrades.com/find-a-doctor/new-york/white-plains', 'https://www.healthgrades.com/find-a-doctor/new-york/williamsville', 'https://www.healthgrades.com/find-a-doctor/new-york/yonkers']\n"
     ]
    }
   ],
   "source": [
    "city_links = []\n",
    "city_element = html.find('ul.link-column > li')\n",
    "for link in city_element:\n",
    "    link = link.find('a', first=True).links.pop()\n",
    "    link = f'{base_url}{link}'\n",
    "    city_links.append(link)\n",
    "print(city_links)"
   ]
  },
  {
   "cell_type": "markdown",
   "metadata": {},
   "source": [
    "# Load select first city URL on cities page to open specialty page for selected city"
   ]
  },
  {
   "cell_type": "code",
   "execution_count": 77,
   "metadata": {},
   "outputs": [
    {
     "name": "stdout",
     "output_type": "stream",
     "text": [
      "https://www.healthgrades.com/find-a-doctor/new-york/albany\n",
      "albany\n"
     ]
    }
   ],
   "source": [
    "# city_url = html.find('ul.link-column > li', first=True).find('a', first=True).links.pop()\n",
    "# city_url = f'{base_url}{city_url}'\n",
    "# print(city_url)\n",
    "\n",
    "# city = city_url.split('/')[-1]\n",
    "# print(city)\n",
    "\n",
    "\n",
    "# driver.get(city_url)\n",
    "# sleep(10)\n",
    "# body = driver.page_source\n",
    "# html = HTML(html=body)"
   ]
  },
  {
   "cell_type": "markdown",
   "metadata": {},
   "source": [
    "# Select individual cities from city_list and open specialties page for selected city"
   ]
  },
  {
   "cell_type": "code",
   "execution_count": 51,
   "metadata": {},
   "outputs": [
    {
     "name": "stdout",
     "output_type": "stream",
     "text": [
      "https://www.healthgrades.com/find-a-doctor/new-york/albany\n",
      "albany\n"
     ]
    }
   ],
   "source": [
    "city_link = city_links[0] # <-- change to select individual city\n",
    "print(city_link)\n",
    "\n",
    "city = city_link.split('/')[-1]\n",
    "print(city)\n",
    "\n",
    "\n",
    "driver.get(city_link)\n",
    "sleep(4)\n",
    "body = driver.page_source\n",
    "html = HTML(html=body)"
   ]
  },
  {
   "cell_type": "markdown",
   "metadata": {},
   "source": [
    "# Load specialty page"
   ]
  },
  {
   "cell_type": "code",
   "execution_count": 78,
   "metadata": {},
   "outputs": [
    {
     "name": "stdout",
     "output_type": "stream",
     "text": [
      "Addiction and Substance Abuse Counseling\n",
      "https://www.healthgrades.com/usearch?what=Addiction and Substance Abuse Counseling&where=albany%2C%20NY&distances=100&pageNum=1&sort.provider=bestmatch\n"
     ]
    }
   ],
   "source": [
    "# specialty = html.find('ul.link-column > li', first=True).text\n",
    "# print(specialty)\n",
    "\n",
    "# specialty_url = f'https://www.healthgrades.com/usearch?what={specialty}&where={city}%2C%20NY&distances=100&pageNum=1&sort.provider=bestmatch'\n",
    "# print(specialty_url)\n",
    "\n",
    "# driver.get(specialty_url)\n",
    "# sleep(10)\n",
    "# body = driver.page_source\n",
    "# html = HTML(html=body)\n",
    "\n",
    "# pages = html.find('.results__pagination p', first=True).text.split()[-1]\n",
    "# print(pages)"
   ]
  },
  {
   "cell_type": "markdown",
   "metadata": {},
   "source": [
    "# Open specialty page for given city from list of specialties\n",
    "\n",
    "- Get pagination count"
   ]
  },
  {
   "cell_type": "code",
   "execution_count": 52,
   "metadata": {},
   "outputs": [
    {
     "name": "stdout",
     "output_type": "stream",
     "text": [
      "Child & Adolescent Psychiatry\n",
      "https://www.healthgrades.com/usearch?what=Child & Adolescent Psychiatry&where=albany%2C%20NY&distances=100&pageNum=1&sort.provider=bestmatch\n",
      "97 pages\n"
     ]
    }
   ],
   "source": [
    "specialty_element = html.find('ul.link-column > li')\n",
    "pages = 1\n",
    "specialty_list = []\n",
    "specialty_links = []\n",
    "for specialty in specialty_element:\n",
    "    specialty = specialty.text\n",
    "    link = f'https://www.healthgrades.com/usearch?what={specialty}&where={city}%2C%20NY&distances=100&pageNum={pages}&sort.provider=bestmatch'\n",
    "    specialty_list.append(specialty)\n",
    "    specialty_links.append(link)\n",
    "# print(specialty_links)\n",
    "\n",
    "specialty = specialty_list[6] # <-- change to select individual specialty\n",
    "\n",
    "specialty_url = specialty_links[6] # <-- change to select individual specialty\n",
    "print(specialty)\n",
    "print(specialty_url)\n",
    "\n",
    "driver.get(specialty_url)\n",
    "sleep(5)\n",
    "body = driver.page_source\n",
    "html = HTML(html=body)\n",
    "\n",
    "pages = html.find('.results__pagination p', first=True).text.split()[-1]\n",
    "if int(pages) > 100:\n",
    "    pages = '99'\n",
    "print(f'{pages} pages')\n",
    "\n"
   ]
  },
  {
   "cell_type": "code",
   "execution_count": 53,
   "metadata": {},
   "outputs": [
    {
     "name": "stdout",
     "output_type": "stream",
     "text": [
      "Processing page 1 of 97 pages for Child & Adolescent Psychiatry.\n",
      "Processing page 2 of 97 pages for Child & Adolescent Psychiatry.\n",
      "Processing page 3 of 97 pages for Child & Adolescent Psychiatry.\n",
      "Processing page 4 of 97 pages for Child & Adolescent Psychiatry.\n",
      "Processing page 5 of 97 pages for Child & Adolescent Psychiatry.\n",
      "Processing page 6 of 97 pages for Child & Adolescent Psychiatry.\n",
      "Processing page 7 of 97 pages for Child & Adolescent Psychiatry.\n",
      "Processing page 8 of 97 pages for Child & Adolescent Psychiatry.\n",
      "Processing page 9 of 97 pages for Child & Adolescent Psychiatry.\n",
      "Processing page 10 of 97 pages for Child & Adolescent Psychiatry.\n",
      "Processing page 11 of 97 pages for Child & Adolescent Psychiatry.\n",
      "Processing page 12 of 97 pages for Child & Adolescent Psychiatry.\n",
      "Processing page 13 of 97 pages for Child & Adolescent Psychiatry.\n",
      "Processing page 14 of 97 pages for Child & Adolescent Psychiatry.\n",
      "Processing page 15 of 97 pages for Child & Adolescent Psychiatry.\n",
      "Processing page 16 of 97 pages for Child & Adolescent Psychiatry.\n",
      "Processing page 17 of 97 pages for Child & Adolescent Psychiatry.\n",
      "Processing page 18 of 97 pages for Child & Adolescent Psychiatry.\n",
      "Processing page 19 of 97 pages for Child & Adolescent Psychiatry.\n",
      "Processing page 20 of 97 pages for Child & Adolescent Psychiatry.\n",
      "Processing page 21 of 97 pages for Child & Adolescent Psychiatry.\n",
      "Processing page 22 of 97 pages for Child & Adolescent Psychiatry.\n",
      "Processing page 23 of 97 pages for Child & Adolescent Psychiatry.\n",
      "Processing page 24 of 97 pages for Child & Adolescent Psychiatry.\n",
      "Processing page 25 of 97 pages for Child & Adolescent Psychiatry.\n",
      "Processing page 26 of 97 pages for Child & Adolescent Psychiatry.\n",
      "Processing page 27 of 97 pages for Child & Adolescent Psychiatry.\n",
      "Processing page 28 of 97 pages for Child & Adolescent Psychiatry.\n",
      "Processing page 29 of 97 pages for Child & Adolescent Psychiatry.\n",
      "Processing page 30 of 97 pages for Child & Adolescent Psychiatry.\n",
      "Processing page 31 of 97 pages for Child & Adolescent Psychiatry.\n",
      "Processing page 32 of 97 pages for Child & Adolescent Psychiatry.\n",
      "Processing page 33 of 97 pages for Child & Adolescent Psychiatry.\n",
      "Processing page 34 of 97 pages for Child & Adolescent Psychiatry.\n",
      "Processing page 35 of 97 pages for Child & Adolescent Psychiatry.\n",
      "Processing page 36 of 97 pages for Child & Adolescent Psychiatry.\n",
      "Processing page 37 of 97 pages for Child & Adolescent Psychiatry.\n",
      "Processing page 38 of 97 pages for Child & Adolescent Psychiatry.\n",
      "Processing page 39 of 97 pages for Child & Adolescent Psychiatry.\n",
      "Processing page 40 of 97 pages for Child & Adolescent Psychiatry.\n",
      "Processing page 41 of 97 pages for Child & Adolescent Psychiatry.\n",
      "Processing page 42 of 97 pages for Child & Adolescent Psychiatry.\n",
      "Processing page 43 of 97 pages for Child & Adolescent Psychiatry.\n",
      "Processing page 44 of 97 pages for Child & Adolescent Psychiatry.\n",
      "Processing page 45 of 97 pages for Child & Adolescent Psychiatry.\n",
      "Processing page 46 of 97 pages for Child & Adolescent Psychiatry.\n",
      "Processing page 47 of 97 pages for Child & Adolescent Psychiatry.\n",
      "Processing page 48 of 97 pages for Child & Adolescent Psychiatry.\n",
      "Processing page 49 of 97 pages for Child & Adolescent Psychiatry.\n",
      "Processing page 50 of 97 pages for Child & Adolescent Psychiatry.\n",
      "Processing page 51 of 97 pages for Child & Adolescent Psychiatry.\n",
      "Processing page 52 of 97 pages for Child & Adolescent Psychiatry.\n",
      "Processing page 53 of 97 pages for Child & Adolescent Psychiatry.\n",
      "Processing page 54 of 97 pages for Child & Adolescent Psychiatry.\n",
      "Processing page 55 of 97 pages for Child & Adolescent Psychiatry.\n",
      "Processing page 56 of 97 pages for Child & Adolescent Psychiatry.\n",
      "Processing page 57 of 97 pages for Child & Adolescent Psychiatry.\n",
      "Processing page 58 of 97 pages for Child & Adolescent Psychiatry.\n",
      "Processing page 59 of 97 pages for Child & Adolescent Psychiatry.\n",
      "Processing page 60 of 97 pages for Child & Adolescent Psychiatry.\n",
      "Processing page 61 of 97 pages for Child & Adolescent Psychiatry.\n",
      "Processing page 62 of 97 pages for Child & Adolescent Psychiatry.\n",
      "Processing page 63 of 97 pages for Child & Adolescent Psychiatry.\n",
      "Processing page 64 of 97 pages for Child & Adolescent Psychiatry.\n",
      "Processing page 65 of 97 pages for Child & Adolescent Psychiatry.\n",
      "Processing page 66 of 97 pages for Child & Adolescent Psychiatry.\n",
      "Processing page 67 of 97 pages for Child & Adolescent Psychiatry.\n",
      "Processing page 68 of 97 pages for Child & Adolescent Psychiatry.\n",
      "Processing page 69 of 97 pages for Child & Adolescent Psychiatry.\n",
      "Processing page 70 of 97 pages for Child & Adolescent Psychiatry.\n",
      "Processing page 71 of 97 pages for Child & Adolescent Psychiatry.\n",
      "Processing page 72 of 97 pages for Child & Adolescent Psychiatry.\n",
      "Processing page 73 of 97 pages for Child & Adolescent Psychiatry.\n",
      "Processing page 74 of 97 pages for Child & Adolescent Psychiatry.\n",
      "Processing page 75 of 97 pages for Child & Adolescent Psychiatry.\n",
      "Processing page 76 of 97 pages for Child & Adolescent Psychiatry.\n",
      "Processing page 77 of 97 pages for Child & Adolescent Psychiatry.\n",
      "Processing page 78 of 97 pages for Child & Adolescent Psychiatry.\n",
      "Processing page 79 of 97 pages for Child & Adolescent Psychiatry.\n",
      "Processing page 80 of 97 pages for Child & Adolescent Psychiatry.\n",
      "Processing page 81 of 97 pages for Child & Adolescent Psychiatry.\n",
      "Processing page 82 of 97 pages for Child & Adolescent Psychiatry.\n",
      "Processing page 83 of 97 pages for Child & Adolescent Psychiatry.\n",
      "Processing page 84 of 97 pages for Child & Adolescent Psychiatry.\n",
      "Processing page 85 of 97 pages for Child & Adolescent Psychiatry.\n",
      "Processing page 86 of 97 pages for Child & Adolescent Psychiatry.\n",
      "Processing page 87 of 97 pages for Child & Adolescent Psychiatry.\n",
      "Processing page 88 of 97 pages for Child & Adolescent Psychiatry.\n",
      "Processing page 89 of 97 pages for Child & Adolescent Psychiatry.\n",
      "Processing page 90 of 97 pages for Child & Adolescent Psychiatry.\n",
      "Processing page 91 of 97 pages for Child & Adolescent Psychiatry.\n",
      "Processing page 92 of 97 pages for Child & Adolescent Psychiatry.\n",
      "Processing page 93 of 97 pages for Child & Adolescent Psychiatry.\n",
      "Processing page 94 of 97 pages for Child & Adolescent Psychiatry.\n",
      "Processing page 95 of 97 pages for Child & Adolescent Psychiatry.\n",
      "Processing page 96 of 97 pages for Child & Adolescent Psychiatry.\n",
      "Processing page 97 of 97 pages for Child & Adolescent Psychiatry.\n"
     ]
    }
   ],
   "source": [
    "\n",
    "provider_list = []\n",
    "\n",
    "for page in range(1, int(pages)+1):\n",
    "# for page in range(1, 4):\n",
    "    print(f'Processing page {page} of {pages} pages for {specialty}.')\n",
    "    url = f'https://www.healthgrades.com/usearch?what={specialty}&where={city}%2C%20NY&distances=100&pageNum={page}&sort.provider=bestmatch'\n",
    "    driver.get(url)\n",
    "    sleep(5)\n",
    "    body = driver.page_source\n",
    "    html = HTML(html=body)\n",
    "    cards = html.find('.search-card__card-info')\n",
    "    for card in cards:\n",
    "        try:\n",
    "            provider_name = card.find('h3.provider-details__provider-name', first=True)\n",
    "            provider_name = provider_name.find('a', first=True).text\n",
    "            if 'Dr.' in provider_name and 'Jr.' in provider_name:\n",
    "                provider_name = provider_name.split('.')[1].split(',')[0].strip()\n",
    "            elif 'Dr.' in provider_name:\n",
    "                provider_name = provider_name.split('.')[1].split(',')[0].strip()\n",
    "            else:\n",
    "                provider_name = provider_name.split(',')[0].strip()\n",
    "        except:\n",
    "            None\n",
    "        try:\n",
    "            provider_title = card.find('h3.provider-details__provider-name', first=True)\n",
    "            provider_title = provider_title.find('a', first=True).text\n",
    "            if 'Dr.' in provider_title and 'Jr.' in provider_title:\n",
    "                provider_title = provider_title.split(',')[1].strip()\n",
    "            elif 'Dr.' in provider_title:\n",
    "                provider_title = provider_title.split(',')[1].strip()\n",
    "            elif ',' not in provider_title:\n",
    "                provider_title = None\n",
    "            else:\n",
    "                provider_title = provider_title.split(',')[1].strip()\n",
    "        except:\n",
    "            None\n",
    "        try:\n",
    "            provider_specialty = card.find('.provider-details__specialty', first=True).text\n",
    "        except:\n",
    "            None\n",
    "        try:\n",
    "            provider_address = card.find('.card-info__location-info', first=True).text.split('\\n')[0]\n",
    "        except:\n",
    "            None\n",
    "        try:\n",
    "            provider_city = card.find('.card-info__location-info', first=True).text.split('\\n')[1].split(',')[0]\n",
    "        except: \n",
    "            None\n",
    "        try:\n",
    "            provider_state = card.find('.card-info__location-info', first=True).text.split('\\n')[1].split(',')[1].split()[0]\n",
    "        except: \n",
    "            None\n",
    "        try:\n",
    "            provider_zip = card.find('.card-info__location-info', first=True).text.split('\\n')[1].split(',')[1].split()[1]\n",
    "        except:\n",
    "            None\n",
    "        try:\n",
    "            provider_phone = card.find('.booking-options__booking-phone', first=True)\n",
    "            provider_phone = provider_phone.find('a', first=True).text\n",
    "        except:\n",
    "            None\n",
    "\n",
    "        data = {\n",
    "                'Name': provider_name,\n",
    "                'Title': provider_title,\n",
    "                'Specialty': provider_specialty,\n",
    "                'Address': provider_address,\n",
    "                'City': provider_city,\n",
    "                'State': provider_state,\n",
    "                'Zip': provider_zip,\n",
    "                'Phone': provider_phone\n",
    "            }\n",
    "\n",
    "        provider_list.append(data)    \n",
    "\n",
    "    n = random.randint(1, 5)\n",
    "    sleep(n)\n",
    "\n",
    "# driver.close()\n",
    "\n",
    "df = pd.DataFrame(provider_list)\n",
    "filename = f'ny_{city}_{specialty}'\n",
    "filename = filename.replace(' ', '_').lower()\n",
    "filename = f'{filename}.csv'\n",
    "df.to_csv(filename, index=False)"
   ]
  }
 ],
 "metadata": {
  "interpreter": {
   "hash": "a7ebea6008a07b4faa7b92eb536520c2d0ffb68c3d77c4863cb1498412982ed2"
  },
  "kernelspec": {
   "display_name": "Python 3.9.5 ('.venv': venv)",
   "language": "python",
   "name": "python3"
  },
  "language_info": {
   "codemirror_mode": {
    "name": "ipython",
    "version": 3
   },
   "file_extension": ".py",
   "mimetype": "text/x-python",
   "name": "python",
   "nbconvert_exporter": "python",
   "pygments_lexer": "ipython3",
   "version": "3.9.5"
  },
  "orig_nbformat": 4
 },
 "nbformat": 4,
 "nbformat_minor": 2
}
