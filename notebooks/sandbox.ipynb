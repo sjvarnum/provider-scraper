{
 "cells": [
  {
   "cell_type": "code",
   "execution_count": 1,
   "metadata": {},
   "outputs": [],
   "source": [
    "from datetime import datetime\n",
    "import pandas as pd\n",
    "import random\n",
    "from requests_html import HTML\n",
    "from selenium import webdriver\n",
    "from selenium.webdriver.firefox.options import Options\n",
    "from selenium.webdriver.common.by import By\n",
    "from selenium.webdriver.support.ui import Select\n",
    "from selenium.webdriver.support.ui import WebDriverWait\n",
    "from selenium.webdriver.support import expected_conditions as EC\n",
    "from selenium.webdriver.firefox.service import Service\n",
    "from selenium.common.exceptions import *\n",
    "from time import sleep"
   ]
  },
  {
   "cell_type": "code",
   "execution_count": 2,
   "metadata": {},
   "outputs": [],
   "source": [
    "service = Service('geckodriver.exe')\n",
    "options = webdriver.FirefoxOptions()\n",
    "# options.add_argument('-headless')\n",
    "base_url = 'https://www.healthgrades.com/find-a-doctor'\n",
    "driver = webdriver.Firefox(service=service, options=options)\n",
    "wait = WebDriverWait(driver, 10)"
   ]
  },
  {
   "cell_type": "code",
   "execution_count": 6,
   "metadata": {},
   "outputs": [],
   "source": [
    "# url = 'https://www.healthgrades.com/find-a-doctor/new-york/albany'\n",
    "url = 'https://www.healthgrades.com/usearch?what=Pulmonary%20Disease&where=Albany%2C%20NY&pageNum=1&sort.provider=bestmatch'\n",
    "driver.get(url)"
   ]
  },
  {
   "cell_type": "code",
   "execution_count": 7,
   "metadata": {},
   "outputs": [],
   "source": [
    "body = driver.page_source\n",
    "html = HTML(html=body)"
   ]
  },
  {
   "cell_type": "code",
   "execution_count": 15,
   "metadata": {},
   "outputs": [],
   "source": [
    "card_info = html.find('.search-card__card-info', first=True)"
   ]
  },
  {
   "cell_type": "code",
   "execution_count": 17,
   "metadata": {},
   "outputs": [
    {
     "data": {
      "text/plain": [
       "'Dr. Abul Azad, MD\\nPulmonary Disease\\nRated 3.5 out of 5 stars, with 10 ratings\\n2125 River Rd Ste 203\\nNiskayuna, NY 12309\\n14 mi\\nOffers Telehealth\\nEasy scheduling\\nEmploys friendly staff\\n2125 River Rd Ste 203\\nNiskayuna, NY 12309\\n14 mi'"
      ]
     },
     "execution_count": 17,
     "metadata": {},
     "output_type": "execute_result"
    }
   ],
   "source": [
    "card_info.text"
   ]
  },
  {
   "cell_type": "code",
   "execution_count": 33,
   "metadata": {},
   "outputs": [
    {
     "data": {
      "text/plain": [
       "'Dr. Abul Azad, MD'"
      ]
     },
     "execution_count": 33,
     "metadata": {},
     "output_type": "execute_result"
    }
   ],
   "source": [
    "provider_name = card_info.find('h3.provider-details__provider-name', first=True)\n",
    "provider_name.attrs\n",
    "provider_name.html\n",
    "provider_name.find('a')\n",
    "provider_name.find('a', first=True).text"
   ]
  },
  {
   "cell_type": "code",
   "execution_count": 35,
   "metadata": {},
   "outputs": [
    {
     "data": {
      "text/plain": [
       "'Pulmonary Disease'"
      ]
     },
     "execution_count": 35,
     "metadata": {},
     "output_type": "execute_result"
    }
   ],
   "source": [
    "provider_specialty = card_info.find('.provider-details__specialty', first=True)\n",
    "provider_specialty.text"
   ]
  },
  {
   "cell_type": "code",
   "execution_count": 42,
   "metadata": {},
   "outputs": [
    {
     "data": {
      "text/plain": [
       "'2125 River Rd Ste 203\\nNiskayuna, NY 12309\\n14 mi'"
      ]
     },
     "execution_count": 42,
     "metadata": {},
     "output_type": "execute_result"
    }
   ],
   "source": [
    "provider_location = card_info.find('.card-info__location-info', first=True).text\n",
    "provider_location"
   ]
  },
  {
   "cell_type": "code",
   "execution_count": 44,
   "metadata": {},
   "outputs": [
    {
     "data": {
      "text/plain": [
       "['2125 River Rd Ste 203', 'Niskayuna, NY 12309', '14 mi']"
      ]
     },
     "execution_count": 44,
     "metadata": {},
     "output_type": "execute_result"
    }
   ],
   "source": [
    "provider_location.split('\\n')"
   ]
  },
  {
   "cell_type": "code",
   "execution_count": 43,
   "metadata": {},
   "outputs": [
    {
     "data": {
      "text/plain": [
       "'2125 River Rd Ste 203'"
      ]
     },
     "execution_count": 43,
     "metadata": {},
     "output_type": "execute_result"
    }
   ],
   "source": [
    "provider_address = provider_location.split('\\n')[0]\n",
    "provider_address"
   ]
  },
  {
   "cell_type": "code",
   "execution_count": 45,
   "metadata": {},
   "outputs": [
    {
     "data": {
      "text/plain": [
       "'Niskayuna'"
      ]
     },
     "execution_count": 45,
     "metadata": {},
     "output_type": "execute_result"
    }
   ],
   "source": [
    "provider_city = provider_location.split('\\n')[1].split(',')[0]\n",
    "provider_city"
   ]
  },
  {
   "cell_type": "code",
   "execution_count": 48,
   "metadata": {},
   "outputs": [
    {
     "data": {
      "text/plain": [
       "'NY'"
      ]
     },
     "execution_count": 48,
     "metadata": {},
     "output_type": "execute_result"
    }
   ],
   "source": [
    "provider_state = provider_location.split('\\n')[1].split(',')[1].split()[0]b\n",
    "provider_state"
   ]
  },
  {
   "cell_type": "code",
   "execution_count": 49,
   "metadata": {},
   "outputs": [
    {
     "data": {
      "text/plain": [
       "'12309'"
      ]
     },
     "execution_count": 49,
     "metadata": {},
     "output_type": "execute_result"
    }
   ],
   "source": [
    "provider_zip = provider_location.split('\\n')[1].split(',')[1].split()[1]\n",
    "provider_zip"
   ]
  }
 ],
 "metadata": {
  "interpreter": {
   "hash": "a7ebea6008a07b4faa7b92eb536520c2d0ffb68c3d77c4863cb1498412982ed2"
  },
  "kernelspec": {
   "display_name": "Python 3.9.5 ('.venv': venv)",
   "language": "python",
   "name": "python3"
  },
  "language_info": {
   "codemirror_mode": {
    "name": "ipython",
    "version": 3
   },
   "file_extension": ".py",
   "mimetype": "text/x-python",
   "name": "python",
   "nbconvert_exporter": "python",
   "pygments_lexer": "ipython3",
   "version": "3.9.5"
  },
  "orig_nbformat": 4
 },
 "nbformat": 4,
 "nbformat_minor": 2
}
