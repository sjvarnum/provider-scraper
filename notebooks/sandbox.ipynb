{
 "cells": [
  {
   "cell_type": "code",
   "execution_count": 1,
   "metadata": {},
   "outputs": [],
   "source": [
    "from datetime import datetime\n",
    "import pandas as pd\n",
    "import random\n",
    "from requests_html import HTML\n",
    "from selenium import webdriver\n",
    "from selenium.webdriver.firefox.options import Options\n",
    "from selenium.webdriver.common.by import By\n",
    "from selenium.webdriver.support.ui import Select\n",
    "from selenium.webdriver.support.ui import WebDriverWait\n",
    "from selenium.webdriver.support import expected_conditions as EC\n",
    "from selenium.webdriver.firefox.service import Service\n",
    "from selenium.common.exceptions import *\n",
    "from time import sleep"
   ]
  },
  {
   "cell_type": "code",
   "execution_count": 2,
   "metadata": {},
   "outputs": [],
   "source": [
    "service = Service('geckodriver.exe')\n",
    "options = webdriver.FirefoxOptions()\n",
    "# options.add_argument('-headless')\n",
    "base_url = 'https://www.healthgrades.com/find-a-doctor'\n",
    "driver = webdriver.Firefox(service=service, options=options)\n",
    "wait = WebDriverWait(driver, 10)"
   ]
  },
  {
   "cell_type": "code",
   "execution_count": 3,
   "metadata": {},
   "outputs": [],
   "source": [
    "# url = 'https://www.healthgrades.com/find-a-doctor/new-york/albany'\n",
    "url = 'https://www.healthgrades.com/usearch?what=Pulmonary%20Disease&where=Albany%2C%20NY&pageNum=1&sort.provider=bestmatch'\n",
    "driver.get(url)\n",
    "page_header = wait.until(EC.presence_of_element_located((By.ID, \"pageHeader\")))"
   ]
  },
  {
   "cell_type": "code",
   "execution_count": 4,
   "metadata": {},
   "outputs": [],
   "source": [
    "body = driver.page_source\n",
    "html = HTML(html=body)"
   ]
  },
  {
   "cell_type": "code",
   "execution_count": 5,
   "metadata": {},
   "outputs": [],
   "source": [
    "card_info = html.find('.search-card__card-info', first=True)"
   ]
  },
  {
   "cell_type": "code",
   "execution_count": 6,
   "metadata": {},
   "outputs": [
    {
     "data": {
      "text/plain": [
       "'Dr. Abul Azad, MD\\nPulmonary Disease\\nRated 3.5 out of 5 stars, with 10 ratings\\n2125 River Rd Ste 203\\nNiskayuna, NY 12309\\n14 mi\\nOffers Telehealth\\nEasy scheduling\\nEmploys friendly staff\\n2125 River Rd Ste 203\\nNiskayuna, NY 12309\\n14 mi'"
      ]
     },
     "execution_count": 6,
     "metadata": {},
     "output_type": "execute_result"
    }
   ],
   "source": [
    "card_info.text"
   ]
  },
  {
   "cell_type": "code",
   "execution_count": 7,
   "metadata": {},
   "outputs": [
    {
     "data": {
      "text/plain": [
       "'Dr. Abul Azad, MD'"
      ]
     },
     "execution_count": 7,
     "metadata": {},
     "output_type": "execute_result"
    }
   ],
   "source": [
    "provider_name = card_info.find('h3.provider-details__provider-name', first=True)\n",
    "provider_name.attrs\n",
    "provider_name.html\n",
    "provider_name.find('a')\n",
    "provider_name.find('a', first=True).text"
   ]
  },
  {
   "cell_type": "code",
   "execution_count": 8,
   "metadata": {},
   "outputs": [
    {
     "data": {
      "text/plain": [
       "'Pulmonary Disease'"
      ]
     },
     "execution_count": 8,
     "metadata": {},
     "output_type": "execute_result"
    }
   ],
   "source": [
    "provider_specialty = card_info.find('.provider-details__specialty', first=True)\n",
    "provider_specialty.text"
   ]
  },
  {
   "cell_type": "code",
   "execution_count": 9,
   "metadata": {},
   "outputs": [
    {
     "data": {
      "text/plain": [
       "'2125 River Rd Ste 203\\nNiskayuna, NY 12309\\n14 mi'"
      ]
     },
     "execution_count": 9,
     "metadata": {},
     "output_type": "execute_result"
    }
   ],
   "source": [
    "provider_location = card_info.find('.card-info__location-info', first=True).text\n",
    "provider_location"
   ]
  },
  {
   "cell_type": "code",
   "execution_count": 10,
   "metadata": {},
   "outputs": [
    {
     "data": {
      "text/plain": [
       "['2125 River Rd Ste 203', 'Niskayuna, NY 12309', '14 mi']"
      ]
     },
     "execution_count": 10,
     "metadata": {},
     "output_type": "execute_result"
    }
   ],
   "source": [
    "provider_location.split('\\n')"
   ]
  },
  {
   "cell_type": "code",
   "execution_count": 11,
   "metadata": {},
   "outputs": [
    {
     "data": {
      "text/plain": [
       "'2125 River Rd Ste 203'"
      ]
     },
     "execution_count": 11,
     "metadata": {},
     "output_type": "execute_result"
    }
   ],
   "source": [
    "provider_address = provider_location.split('\\n')[0]\n",
    "provider_address"
   ]
  },
  {
   "cell_type": "code",
   "execution_count": 12,
   "metadata": {},
   "outputs": [
    {
     "data": {
      "text/plain": [
       "'Niskayuna'"
      ]
     },
     "execution_count": 12,
     "metadata": {},
     "output_type": "execute_result"
    }
   ],
   "source": [
    "provider_city = provider_location.split('\\n')[1].split(',')[0]\n",
    "provider_city"
   ]
  },
  {
   "cell_type": "code",
   "execution_count": 13,
   "metadata": {},
   "outputs": [
    {
     "data": {
      "text/plain": [
       "'NY'"
      ]
     },
     "execution_count": 13,
     "metadata": {},
     "output_type": "execute_result"
    }
   ],
   "source": [
    "provider_state = provider_location.split('\\n')[1].split(',')[1].split()[0]\n",
    "provider_state"
   ]
  },
  {
   "cell_type": "code",
   "execution_count": 14,
   "metadata": {},
   "outputs": [
    {
     "data": {
      "text/plain": [
       "'12309'"
      ]
     },
     "execution_count": 14,
     "metadata": {},
     "output_type": "execute_result"
    }
   ],
   "source": [
    "provider_zip = provider_location.split('\\n')[1].split(',')[1].split()[1]\n",
    "provider_zip"
   ]
  },
  {
   "cell_type": "code",
   "execution_count": 15,
   "metadata": {},
   "outputs": [],
   "source": [
    "cards = html.find('.search-card__card-info')"
   ]
  },
  {
   "cell_type": "code",
   "execution_count": 16,
   "metadata": {},
   "outputs": [
    {
     "name": "stdout",
     "output_type": "stream",
     "text": [
      "Dr. Abul Azad, MD\n",
      "Pulmonary Disease\n",
      "Rated 3.5 out of 5 stars, with 10 ratings\n",
      "2125 River Rd Ste 203\n",
      "Niskayuna, NY 12309\n",
      "14 mi\n",
      "Offers Telehealth\n",
      "Easy scheduling\n",
      "Employs friendly staff\n",
      "2125 River Rd Ste 203\n",
      "Niskayuna, NY 12309\n",
      "14 mi\n",
      "Dr. Muhammad Imtiaz, MD\n",
      "Critical Care Medicine\n",
      "Rated 5 out of 5 stars, with 1 rating\n",
      "47 New Scotland Ave\n",
      "Albany, NY 12208\n",
      "1 mi\n",
      "Offers Telehealth\n",
      "Easy scheduling\n",
      "Employs friendly staff\n",
      "47 New Scotland Ave\n",
      "Albany, NY 12208\n",
      "1 mi\n",
      "Dr. Thomas Smith, MD\n",
      "Pulmonary Disease\n",
      "Rated 4 out of 5 stars, with 20 ratings\n",
      "47 NEW SCOTLAND AVE\n",
      "Albany, NY 12208\n",
      "1 mi\n",
      "Offers Telehealth\n",
      "Explains conditions well\n",
      "Patients found trustworthy\n",
      "47 NEW SCOTLAND AVE\n",
      "Albany, NY 12208\n",
      "1 mi\n",
      "Dr. Adolfo Jaitovich, MD\n",
      "Critical Care Medicine\n",
      "Rated 5 out of 5 stars, with 3 ratings\n",
      "22 New Scotland Ave Fl The\n",
      "Albany, NY 12208\n",
      "1 mi\n",
      "Easy scheduling\n",
      "Employs friendly staff\n",
      "Explains conditions well\n",
      "22 New Scotland Ave Fl The\n",
      "Albany, NY 12208\n",
      "1 mi\n",
      "Dr. Scott Beegle, MD\n",
      "Critical Care Medicine\n",
      "Rated 4.5 out of 5 stars, with 8 ratings\n",
      "47 New Scotland Ave\n",
      "Albany, NY 12208\n",
      "1 mi\n",
      "Easy scheduling\n",
      "Employs friendly staff\n",
      "Explains conditions well\n",
      "47 New Scotland Ave\n",
      "Albany, NY 12208\n",
      "1 mi\n",
      "Dr. Howard Weiss, DO\n",
      "Pulmonary Disease\n",
      "Rated 4.5 out of 5 stars, with 16 ratings\n",
      "1 Pine W Plaza Washington A Ext\n",
      "Albany, NY 12205\n",
      "2.1 mi\n",
      "Offers Telehealth\n",
      "Easy scheduling\n",
      "Employs friendly staff\n",
      "1 Pine W Plaza Washington A Ext\n",
      "Albany, NY 12205\n",
      "2.1 mi\n",
      "Dr. Zothanmawii Khiangte, MD\n",
      "Critical Care Medicine\n",
      "Rated 5 out of 5 stars, with 6 ratings\n",
      "5 Palisades Dr Ste 100\n",
      "Albany, NY 12205\n",
      "2.7 mi\n",
      "Offers Telehealth\n",
      "Easy scheduling\n",
      "Employs friendly staff\n",
      "5 Palisades Dr Ste 100\n",
      "Albany, NY 12205\n",
      "2.7 mi\n",
      "Dr. Anwar Haque, MD\n",
      "Critical Care Medicine\n",
      "Rated 5 out of 5 stars, with 1 rating\n",
      "5 Palisades Dr Ste 100\n",
      "Albany, NY 12205\n",
      "2.7 mi\n",
      "Offers Telehealth\n",
      "Easy scheduling\n",
      "Employs friendly staff\n",
      "5 Palisades Dr Ste 100\n",
      "Albany, NY 12205\n",
      "2.7 mi\n",
      "Dr. Marc Judson, MD\n",
      "Pulmonary Disease\n",
      "Rated 3 out of 5 stars, with 7 ratings\n",
      "16 New Scotland Ave Fl 2\n",
      "Albany, NY 12208\n",
      "0.9 mi\n",
      "Offers Telehealth\n",
      "Easy scheduling\n",
      "Employs friendly staff\n",
      "16 New Scotland Ave Fl 2\n",
      "Albany, NY 12208\n",
      "0.9 mi\n",
      "Dr. David Strumpf, MD\n",
      "Critical Care Medicine\n",
      "Rated 4.5 out of 5 stars, with 17 ratings\n",
      "1300 Massachusetts Ave\n",
      "Troy, NY 12180\n",
      "7.5 mi\n",
      "Offers Telehealth\n",
      "Easy scheduling\n",
      "Employs friendly staff\n",
      "1300 Massachusetts Ave\n",
      "Troy, NY 12180\n",
      "7.5 mi\n",
      "Dr. Anthony Cagino, MD\n",
      "Critical Care Medicine\n",
      "Rated 4.5 out of 5 stars, with 12 ratings\n",
      "5 Palisades Dr Ste 100\n",
      "Albany, NY 12205\n",
      "2.7 mi\n",
      "Offers Telehealth\n",
      "Easy scheduling\n",
      "Employs friendly staff\n",
      "5 Palisades Dr Ste 100\n",
      "Albany, NY 12205\n",
      "2.7 mi\n",
      "Dr. David Palat, MD\n",
      "Critical Care Medicine\n",
      "Rated 5 out of 5 stars, with 5 ratings\n",
      "5 Palisades Dr Ste 100\n",
      "Albany, NY 12205\n",
      "2.7 mi\n",
      "Offers Telehealth\n",
      "Easy scheduling\n",
      "Employs friendly staff\n",
      "5 Palisades Dr Ste 100\n",
      "Albany, NY 12205\n",
      "2.7 mi\n",
      "Dr. Joseph Farooq, MD\n",
      "Pulmonary Disease\n",
      "Rated 4 out of 5 stars, with 11 ratings\n",
      "2 New Hampshire Ave\n",
      "Troy, NY 12180\n",
      "7.4 mi\n",
      "Offers Telehealth\n",
      "Explains conditions well\n",
      "Patients found trustworthy\n",
      "2 New Hampshire Ave\n",
      "Troy, NY 12180\n",
      "7.4 mi\n",
      "Dr. Robert Oksenholt, MD\n",
      "Critical Care Medicine\n",
      "Rated 5 out of 5 stars, with 6 ratings\n",
      "315 S Manning Blvd\n",
      "Albany, NY 12208\n",
      "2.5 mi\n",
      "Easy scheduling\n",
      "Employs friendly staff\n",
      "Explains conditions well\n",
      "315 S Manning Blvd\n",
      "Albany, NY 12208\n",
      "2.5 mi\n",
      "Dr. Luke Pluto, MD\n",
      "Critical Care Medicine\n",
      "Rated 3.5 out of 5 stars, with 5 ratings\n",
      "47 New Scotland Ave\n",
      "Albany, NY 12208\n",
      "1 mi\n",
      "Offers Telehealth\n",
      "Easy scheduling\n",
      "Employs friendly staff\n",
      "47 New Scotland Ave\n",
      "Albany, NY 12208\n",
      "1 mi\n",
      "Dr. Shobharani Sundaram, MD\n",
      "Critical Care Medicine\n",
      "Rated 4.5 out of 5 stars, with 4 ratings\n",
      "2 New Hampshire Ave\n",
      "Troy, NY 12180\n",
      "7.4 mi\n",
      "Offers Telehealth\n",
      "Easy scheduling\n",
      "Employs friendly staff\n",
      "2 New Hampshire Ave\n",
      "Troy, NY 12180\n",
      "7.4 mi\n",
      "Dr. Dennis Gort, MD\n",
      "Pulmonary Disease\n",
      "Rated 5 out of 5 stars, with 3 ratings\n",
      "5 Palisades Dr Ste 100\n",
      "Albany, NY 12205\n",
      "2.7 mi\n",
      "Offers Telehealth\n",
      "Easy scheduling\n",
      "Employs friendly staff\n",
      "5 Palisades Dr Ste 100\n",
      "Albany, NY 12205\n",
      "2.7 mi\n",
      "Dr. David Bruce, MD\n",
      "Pulmonary Disease\n",
      "Rated 4 out of 5 stars, with 5 ratings\n",
      "2 New Hampshire Ave\n",
      "Troy, NY 12180\n",
      "7.4 mi\n",
      "Offers Telehealth\n",
      "Easy scheduling\n",
      "Employs friendly staff\n",
      "2 New Hampshire Ave\n",
      "Troy, NY 12180\n",
      "7.4 mi\n",
      "Dr. Boris Medarov, MD\n",
      "Critical Care Medicine\n",
      "Rated 4.5 out of 5 stars, with 7 ratings\n",
      "47 NEW SCOTLAND AVE\n",
      "Albany, NY 12208\n",
      "1 mi\n",
      "Easy scheduling\n",
      "Employs friendly staff\n",
      "Explains conditions well\n",
      "47 NEW SCOTLAND AVE\n",
      "Albany, NY 12208\n",
      "1 mi\n",
      "Dr. Christopher Dibble, MD\n",
      "Cardiology\n",
      "Rated 5 out of 5 stars, with 8 ratings\n",
      "2546 Balltown Rd Ste 300\n",
      "Schenectady, NY 12309\n",
      "14.2 mi\n",
      "Offers Telehealth\n",
      "Easy scheduling\n",
      "Employs friendly staff\n",
      "2546 Balltown Rd Ste 300\n",
      "Schenectady, NY 12309\n",
      "14.2 mi\n",
      "Dr. Anthony Iannuccillo, MD\n",
      "Pulmonary Disease\n",
      "Rated 3.5 out of 5 stars, with 5 ratings\n",
      "315 S Manning Blvd Fl 1\n",
      "Albany, NY 12208\n",
      "2.5 mi\n",
      "Employs friendly staff\n",
      "315 S Manning Blvd Fl 1\n",
      "Albany, NY 12208\n",
      "2.5 mi\n",
      "Dr. Richard Gullott, MD\n",
      "Cardiology\n",
      "Rated 5 out of 5 stars, with 1 rating\n",
      "1101 Nott St\n",
      "Schenectady, NY 12308\n",
      "14.2 mi\n",
      "Easy scheduling\n",
      "Employs friendly staff\n",
      "Explains conditions well\n",
      "1101 Nott St\n",
      "Schenectady, NY 12308\n",
      "14.2 mi\n"
     ]
    }
   ],
   "source": [
    "for i in cards:\n",
    "    print(i.text)"
   ]
  },
  {
   "cell_type": "code",
   "execution_count": 41,
   "metadata": {},
   "outputs": [
    {
     "name": "stdout",
     "output_type": "stream",
     "text": [
      "Gary Olson\n",
      "DC\n"
     ]
    }
   ],
   "source": [
    "string = \"Dr. Gary Olson, DC\"\n",
    "\n",
    "if 'Dr.' in string:\n",
    "    name = string.split('.')[1].split(',')[0].strip()\n",
    "    title = string.split(',')[1].strip()\n",
    "\n",
    "    print(name)\n",
    "    print(title)"
   ]
  },
  {
   "cell_type": "code",
   "execution_count": 44,
   "metadata": {},
   "outputs": [
    {
     "name": "stdout",
     "output_type": "stream",
     "text": [
      "Frederick Buechel Jr\n",
      "MD\n"
     ]
    }
   ],
   "source": [
    "string = 'Dr. Frederick Buechel Jr., MD'\n",
    "\n",
    "if 'Dr.' in string and 'Jr.' in string:\n",
    "    name = string.split('.')[1].split(',')[0].strip()\n",
    "    title = string.split(',')[1].strip()\n",
    "\n",
    "    print(name)\n",
    "    print(title)"
   ]
  },
  {
   "cell_type": "code",
   "execution_count": 42,
   "metadata": {},
   "outputs": [
    {
     "data": {
      "text/plain": [
       "'Gary Olson'"
      ]
     },
     "execution_count": 42,
     "metadata": {},
     "output_type": "execute_result"
    }
   ],
   "source": [
    "string = 'Gary Olson, DC'\n",
    "\n",
    "string.split(',')[0]"
   ]
  }
 ],
 "metadata": {
  "interpreter": {
   "hash": "a7ebea6008a07b4faa7b92eb536520c2d0ffb68c3d77c4863cb1498412982ed2"
  },
  "kernelspec": {
   "display_name": "Python 3.9.5 ('.venv': venv)",
   "language": "python",
   "name": "python3"
  },
  "language_info": {
   "codemirror_mode": {
    "name": "ipython",
    "version": 3
   },
   "file_extension": ".py",
   "mimetype": "text/x-python",
   "name": "python",
   "nbconvert_exporter": "python",
   "pygments_lexer": "ipython3",
   "version": "3.9.5"
  },
  "orig_nbformat": 4
 },
 "nbformat": 4,
 "nbformat_minor": 2
}
